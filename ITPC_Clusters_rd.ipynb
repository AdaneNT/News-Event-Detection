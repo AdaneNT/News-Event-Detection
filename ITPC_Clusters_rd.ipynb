{
 "cells": [
  {
   "cell_type": "markdown",
   "id": "1796c26a-8fbf-4d69-a4ec-d1a935ef9432",
   "metadata": {},
   "source": [
    "##### Assign IPTC topics for each news text in a cluster \n",
    "Community Notes on OpenAI Python API library https://community.openai.com/t/openai-completion-create-give-error-python/476558"
   ]
  },
  {
   "cell_type": "code",
   "execution_count": null,
   "id": "8d9a7890-825b-4217-b55e-af803a8767f6",
   "metadata": {},
   "outputs": [],
   "source": [
    "import pandas as pd\n",
    "import openai"
   ]
  },
  {
   "cell_type": "code",
   "execution_count": null,
   "id": "cbdb5895-431b-4115-9e17-a67a36e3e5dc",
   "metadata": {},
   "outputs": [],
   "source": [
    "pd.set_option('display.max_colwidth', 20)\n",
    "df1=pd.read_csv(\"Final_clustered_data_summary.csv\",index_col=0)"
   ]
  },
  {
   "cell_type": "code",
   "execution_count": null,
   "id": "3d6923fd-525c-4e96-af51-26d98c411191",
   "metadata": {},
   "outputs": [],
   "source": [
    "# Set up key \n",
    "openai.api_key = 'key'\n",
    "\n",
    "# Function to assign categories to text \n",
    "def classify_with_gpt(text):\n",
    "    \n",
    "    # Prompt instruction for each category \n",
    "    prompt_instruction = \"Please classify the following news under the appropriate category:\"\n",
    "    \n",
    "    # Define topics for classification based on IPTC taxonomy\n",
    "    topics = [\n",
    "        'Politics',\n",
    "        'Business',\n",
    "        'Sports',\n",
    "        'Entertainment',\n",
    "        'Technology/Science',\n",
    "        'Health/Medical',\n",
    "        'Environment',\n",
    "        'Crime/Law',\n",
    "        'Human Interest',\n",
    "        'Travel',\n",
    "        'Education',\n",
    "        'Arts/Culture',\n",
    "        'Opinion/Editorial',\n",
    "        'Religion',\n",
    "        'Obituaries',\n",
    "        'Weather',\n",
    "        'Economy',\n",
    "        'Disaster/Accident',\n",
    "        'Labor',\n",
    "        'Science/Technology',\n",
    "        'Human Rights',\n",
    "        'Social Issues',\n",
    "        'War/Conflict',\n",
    "        'Terrorism',\n",
    "        'Immigration',\n",
    "        'Refugees',\n",
    "        'International Affairs'\n",
    "    ]\n",
    "    \n",
    "    # Prompts\n",
    "    combined_prompt = f\"{prompt_instruction}\\n\\n{text}\\n\"\n",
    "    for topic in topics:\n",
    "        combined_prompt +=  f\"{topic}: Category\\n\"\n",
    "    \n",
    "    # Model: gpt-3.5-turbo-instruct\n",
    "    response = openai.Completion.create(\n",
    "        engine=\"gpt-3.5-turbo-instruct\",\n",
    "        prompt=combined_prompt,\n",
    "        max_tokens=100,\n",
    "        temperature=0.5,\n",
    "        top_p=1.0,\n",
    "        n=1,\n",
    "        stop=None\n",
    "    )\n",
    "    content = response.choices[0].text.strip()\n",
    "    \n",
    "    # assign category to text\n",
    "    for topic in topics:\n",
    "        if topic.lower() in content.lower():\n",
    "            return topic\n",
    "    \n",
    "    # If no category is indicated, return None\n",
    "    return None\n",
    "    \n",
    "df1['IPTC group'] = df1['Text'].apply(classify_with_gpt)\n",
    "#save file\n",
    "df1.to_csv (\"Final_clustered_data_summary_IPTC.csv\")\n",
    "df1.head()"
   ]
  },
  {
   "cell_type": "code",
   "execution_count": null,
   "id": "60723112-75d6-483f-81e0-a71175268f63",
   "metadata": {},
   "outputs": [],
   "source": [
    "import pandas as pd\n",
    "df1=pd.read_csv(\"Final_clustered_data_summary_IPTC.csv\",index_col=0)\n",
    "print(df1.shape)\n",
    "df1"
   ]
  },
  {
   "cell_type": "code",
   "execution_count": null,
   "id": "88f52326-e3dc-447f-a435-555ba293bed5",
   "metadata": {
    "scrolled": true
   },
   "outputs": [],
   "source": [
    "filtered_df = df1[df1.notna().all(axis=1)]\n",
    "print(filtered_df.shape)\n",
    "filtered_df"
   ]
  },
  {
   "cell_type": "code",
   "execution_count": null,
   "id": "34016478-9faa-4fbf-8e5e-81b53eb15ef5",
   "metadata": {},
   "outputs": [],
   "source": [
    "pd.set_option('display.max_colwidth', 30)\n",
    "filtered_df[filtered_df[\"clusters\"]==5] "
   ]
  },
  {
   "cell_type": "code",
   "execution_count": null,
   "id": "001756f0-5359-4e7c-bfd4-8ac50af3089b",
   "metadata": {},
   "outputs": [],
   "source": [
    "filtered_df.columns"
   ]
  },
  {
   "cell_type": "code",
   "execution_count": null,
   "id": "3c9ad364-63c8-4f70-ab6b-b6c4a2a68df2",
   "metadata": {},
   "outputs": [],
   "source": [
    "pd.set_option('display.max_colwidth', 30)\n",
    "filtered_dff=filtered_df[['Title','Text', 'Keywords', 'clusters', 'summary_LLM', 'IPTC group']]\n",
    "filtered_dff"
   ]
  },
  {
   "cell_type": "code",
   "execution_count": null,
   "id": "e4629d83-4e2b-41b8-96fb-149ad16d5757",
   "metadata": {},
   "outputs": [],
   "source": [
    "### show   outputs  with unique  IPTC values"
   ]
  },
  {
   "cell_type": "code",
   "execution_count": null,
   "id": "78983374-4a43-440f-8377-c6a269131e42",
   "metadata": {},
   "outputs": [],
   "source": [
    "import pandas as pd\n",
    "\n",
    "# Identify unique values\n",
    "unique_values = filtered_dff['clusters'].unique()\n",
    "\n",
    "\n",
    "filtered_dfs = []\n",
    "\n",
    "# Iterate through unique values\n",
    "for value in unique_values:\n",
    "    \n",
    "    # Filter DataFrame to include only rows with the current value\n",
    "    temp_df = filtered_dff[filtered_dff['clusters'] == value]\n",
    "    # If there's only one row for the value or if the value is unique, append it to filtered_dfs\n",
    "    if len(temp_df) == 1 or len(filtered_dff[filtered_dff['clusters'] == value]) == 1:\n",
    "        filtered_dfs.append(temp_df)\n",
    "    else:\n",
    "        # If there are multiple rows with the same value, append only the first row\n",
    "        filtered_dfs.append(temp_df.iloc[:1])\n",
    "\n",
    "filtered_df3 = pd.concat(filtered_dfs)\n",
    "filtered_df3"
   ]
  },
  {
   "cell_type": "code",
   "execution_count": 85,
   "id": "c415164e-7871-4e95-bc12-971f02075de2",
   "metadata": {},
   "outputs": [
    {
     "data": {
      "text/plain": [
       "Index(['Title', 'Text', 'Keywords', 'clusters', 'summary_openai',\n",
       "       'IPTC group'],\n",
       "      dtype='object')"
      ]
     },
     "execution_count": 85,
     "metadata": {},
     "output_type": "execute_result"
    }
   ],
   "source": [
    "filtered_df3.columns"
   ]
  },
  {
   "cell_type": "code",
   "execution_count": null,
   "id": "5cf8e99c-8ece-4b35-8c6d-f98d8fd52908",
   "metadata": {},
   "outputs": [],
   "source": [
    "pd.set_option('display.max_colwidth', 200)\n",
    "filtered_df3[['Title', 'Text', 'Keywords', 'clusters', 'summary_openai','IPTC group']]"
   ]
  },
  {
   "cell_type": "code",
   "execution_count": 109,
   "id": "d85aa00e-cc53-4377-a8b9-0e2444b290bd",
   "metadata": {},
   "outputs": [
    {
     "data": {
      "text/plain": [
       "Index(['keywords2', 'index', 'Title', 'Text', 'Keywords', 'clusters',\n",
       "       'summary_openai', 'IPTC group', 'unique_keywords'],\n",
       "      dtype='object')"
      ]
     },
     "execution_count": 109,
     "metadata": {},
     "output_type": "execute_result"
    }
   ],
   "source": [
    "filtered_df3.columns"
   ]
  },
  {
   "cell_type": "code",
   "execution_count": 117,
   "id": "5eea6f73-d6fc-49fa-a46b-16458d2ade32",
   "metadata": {},
   "outputs": [
    {
     "data": {
      "text/html": [
       "<div>\n",
       "<style scoped>\n",
       "    .dataframe tbody tr th:only-of-type {\n",
       "        vertical-align: middle;\n",
       "    }\n",
       "\n",
       "    .dataframe tbody tr th {\n",
       "        vertical-align: top;\n",
       "    }\n",
       "\n",
       "    .dataframe thead th {\n",
       "        text-align: right;\n",
       "    }\n",
       "</style>\n",
       "<table border=\"1\" class=\"dataframe\">\n",
       "  <thead>\n",
       "    <tr style=\"text-align: right;\">\n",
       "      <th></th>\n",
       "      <th>Custers</th>\n",
       "      <th>Text</th>\n",
       "      <th>Keywords</th>\n",
       "      <th>Summary</th>\n",
       "      <th>IPTC_type</th>\n",
       "    </tr>\n",
       "  </thead>\n",
       "  <tbody>\n",
       "    <tr>\n",
       "      <th>0</th>\n",
       "      <td>0</td>\n",
       "      <td>raphael lavoie sets a new personal career high with his th ahl goal of the season  to lead the condors to an important victory in san diego</td>\n",
       "      <td>[ahl, lavoie, condors]</td>\n",
       "      <td>Raphael Lavoie scores career-high goal to secure Condors' crucial win.</td>\n",
       "      <td>Sports</td>\n",
       "    </tr>\n",
       "    <tr>\n",
       "      <th>1</th>\n",
       "      <td>2</td>\n",
       "      <td>chemist warehouse s expansion in the australian market is continuing with five new stores opening in the first three months of  discount giant  chemist warehouse  cwh   has added stores in western australia  the northern territory  nsw and queensland since the beginning of the calendar year  taking its network to  pharmacies nationwide  in athis content is restricted to registered users only  if you have already registered on the ajp website please login below  or you can register for free</td>\n",
       "      <td>[warehouse, pharmacies, stores]</td>\n",
       "      <td>Chemist Warehouse expands by adding 5 new stores across Australia.</td>\n",
       "      <td>Business</td>\n",
       "    </tr>\n",
       "    <tr>\n",
       "      <th>2</th>\n",
       "      <td>4</td>\n",
       "      <td>federal court judge john logan dismissed the case in a decision delivered in brisbane and melbourne on thursday  finding that mr smyth acted within his understanding of the  custom and practice  of his union branch that did allow payment for infrequent and exceptional personal expenses</td>\n",
       "      <td>[smyth, dismissed, logan]</td>\n",
       "      <td>Judge Logan in Brisbane and Melbourne dismissed the case, ruling in favor of Mr. Smyth's actions.</td>\n",
       "      <td>Crime/Law</td>\n",
       "    </tr>\n",
       "    <tr>\n",
       "      <th>3</th>\n",
       "      <td>6</td>\n",
       "      <td>custodian ray keen inspects a clock face before changing the time on the  year old clock atop the clay county courthouse saturday  march     in clay center  kan  for the first time in history  world timekeepers may have to consider subtracting a second from our clocks in a few years because the planet is rotating a tad faster   ap photo charlie riedel  file earth s changing spin is threatening to toy with our sense of time  clocks and computerized society in an unprecedented way   but only f...</td>\n",
       "      <td>[clocks, timekeepers, utc]</td>\n",
       "      <td>Earth's changing spin may require subtracting a leap second; ice melting delays this.</td>\n",
       "      <td>Technology/Science</td>\n",
       "    </tr>\n",
       "    <tr>\n",
       "      <th>4</th>\n",
       "      <td>3</td>\n",
       "      <td>coolidge  ariz   ap    it literally stinks that visitors to casa grande ruins national monument in south central arizona might not be able to use the attraction s picnic area until may monument officials announced wednesday that the picnic area will be closed from march  through april  due to the density of an invasive and noxious winter weed called stinknet that can grow more than  feet    meters  tall the weed has a turpentine like odor and can cause serious breathing problems as well as s...</td>\n",
       "      <td>[arizona, scottsdale, picnic]</td>\n",
       "      <td>Casa Grande picnic area closed until May due to invasive weed.</td>\n",
       "      <td>Environment</td>\n",
       "    </tr>\n",
       "    <tr>\n",
       "      <th>5</th>\n",
       "      <td>5</td>\n",
       "      <td>who did not see this coming if you watch politics this is not a surprise  but it is a major news story  and a source of humor for people like me we have new leadership for the rnc  trump has his people entrenched in control over party politics  no one will buck  the boss   this means they need to hire more people to help lead the rush to whatever it is that trump envisions for the us if you need a job and are considering applying to the rnc you might want to have a heads up  republican natio...</td>\n",
       "      <td>[rnc, candidates, campaign]</td>\n",
       "      <td>RNC employees asked if they think the election was stolen</td>\n",
       "      <td>Politics</td>\n",
       "    </tr>\n",
       "  </tbody>\n",
       "</table>\n",
       "</div>"
      ],
      "text/plain": [
       "   Custers  \\\n",
       "0        0   \n",
       "1        2   \n",
       "2        4   \n",
       "3        6   \n",
       "4        3   \n",
       "5        5   \n",
       "\n",
       "                                                                                                                                                                                                                                                                                                                                                                                                                                                                                                                  Text  \\\n",
       "0                                                                                                                                                                                                                                                                                                                                                                          raphael lavoie sets a new personal career high with his th ahl goal of the season  to lead the condors to an important victory in san diego   \n",
       "1       chemist warehouse s expansion in the australian market is continuing with five new stores opening in the first three months of  discount giant  chemist warehouse  cwh   has added stores in western australia  the northern territory  nsw and queensland since the beginning of the calendar year  taking its network to  pharmacies nationwide  in athis content is restricted to registered users only  if you have already registered on the ajp website please login below  or you can register for free   \n",
       "2                                                                                                                                                                                                                       federal court judge john logan dismissed the case in a decision delivered in brisbane and melbourne on thursday  finding that mr smyth acted within his understanding of the  custom and practice  of his union branch that did allow payment for infrequent and exceptional personal expenses   \n",
       "3  custodian ray keen inspects a clock face before changing the time on the  year old clock atop the clay county courthouse saturday  march     in clay center  kan  for the first time in history  world timekeepers may have to consider subtracting a second from our clocks in a few years because the planet is rotating a tad faster   ap photo charlie riedel  file earth s changing spin is threatening to toy with our sense of time  clocks and computerized society in an unprecedented way   but only f...   \n",
       "4  coolidge  ariz   ap    it literally stinks that visitors to casa grande ruins national monument in south central arizona might not be able to use the attraction s picnic area until may monument officials announced wednesday that the picnic area will be closed from march  through april  due to the density of an invasive and noxious winter weed called stinknet that can grow more than  feet    meters  tall the weed has a turpentine like odor and can cause serious breathing problems as well as s...   \n",
       "5  who did not see this coming if you watch politics this is not a surprise  but it is a major news story  and a source of humor for people like me we have new leadership for the rnc  trump has his people entrenched in control over party politics  no one will buck  the boss   this means they need to hire more people to help lead the rush to whatever it is that trump envisions for the us if you need a job and are considering applying to the rnc you might want to have a heads up  republican natio...   \n",
       "\n",
       "                          Keywords  \\\n",
       "0           [ahl, lavoie, condors]   \n",
       "1  [warehouse, pharmacies, stores]   \n",
       "2        [smyth, dismissed, logan]   \n",
       "3       [clocks, timekeepers, utc]   \n",
       "4    [arizona, scottsdale, picnic]   \n",
       "5      [rnc, candidates, campaign]   \n",
       "\n",
       "                                                                                             Summary  \\\n",
       "0                             Raphael Lavoie scores career-high goal to secure Condors' crucial win.   \n",
       "1                                 Chemist Warehouse expands by adding 5 new stores across Australia.   \n",
       "2  Judge Logan in Brisbane and Melbourne dismissed the case, ruling in favor of Mr. Smyth's actions.   \n",
       "3              Earth's changing spin may require subtracting a leap second; ice melting delays this.   \n",
       "4                                     Casa Grande picnic area closed until May due to invasive weed.   \n",
       "5                                          RNC employees asked if they think the election was stolen   \n",
       "\n",
       "            IPTC_type  \n",
       "0              Sports  \n",
       "1            Business  \n",
       "2           Crime/Law  \n",
       "3  Technology/Science  \n",
       "4         Environment  \n",
       "5            Politics  "
      ]
     },
     "execution_count": 117,
     "metadata": {},
     "output_type": "execute_result"
    }
   ],
   "source": [
    "filtered_df3.columns=['Custers', 'Text', 'Keywords','Summary', 'IPTC_type']\n",
    "filtered_df3"
   ]
  },
  {
   "cell_type": "code",
   "execution_count": null,
   "id": "e29b0a3f-dc13-49d6-b779-0f219d579102",
   "metadata": {},
   "outputs": [],
   "source": []
  }
 ],
 "metadata": {
  "kernelspec": {
   "display_name": "Python 3 (ipykernel)",
   "language": "python",
   "name": "python3"
  },
  "language_info": {
   "codemirror_mode": {
    "name": "ipython",
    "version": 3
   },
   "file_extension": ".py",
   "mimetype": "text/x-python",
   "name": "python",
   "nbconvert_exporter": "python",
   "pygments_lexer": "ipython3",
   "version": "3.11.7"
  }
 },
 "nbformat": 4,
 "nbformat_minor": 5
}
