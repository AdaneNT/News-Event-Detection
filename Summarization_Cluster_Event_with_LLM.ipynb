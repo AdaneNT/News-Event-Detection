{
 "cells": [
  {
   "cell_type": "markdown",
   "id": "cb730b06-149f-40cf-8e3f-0f1815b0252f",
   "metadata": {},
   "source": [
    "### Cluster event Summary Generation using OpenAI API"
   ]
  },
  {
   "cell_type": "markdown",
   "id": "6411ccbb-7508-4176-a687-48fca9d860e0",
   "metadata": {},
   "source": [
    "#### Load the Clustered Keywords Data"
   ]
  },
  {
   "cell_type": "code",
   "execution_count": null,
   "id": "66d6b079-301f-440f-8741-2cc4c4110b39",
   "metadata": {},
   "outputs": [],
   "source": [
    "# Read the data if necessary\n",
    "keys_dff = pd.read_pickle(\"Final_clustered_data.pkl\")\n",
    "#keys_dff = pd.read_pickle(\"Final_clustered_data.csv\")\n",
    "keys_dff.columns"
   ]
  },
  {
   "cell_type": "code",
   "execution_count": null,
   "id": "536633d4-f40b-400a-ac2d-ec31079916d1",
   "metadata": {
    "scrolled": true
   },
   "outputs": [],
   "source": [
    "import pandas as pd\n",
    "\n",
    "# Check the output\n",
    "print(keys_dff.shape)\n",
    "keys_dff.head()"
   ]
  },
  {
   "cell_type": "code",
   "execution_count": 218,
   "id": "1b3e0c6a-d870-4888-abc2-5976e4bca170",
   "metadata": {},
   "outputs": [],
   "source": [
    "import os\n",
    "import openai\n",
    "\n",
    "# Set your OpenAI API key\n",
    "openai.api_key = \"key\"\n",
    "#  access the API key through os.environ\n",
    "os.environ['OPENAI_API_KEY'] = openai.api_key"
   ]
  },
  {
   "cell_type": "code",
   "execution_count": 219,
   "id": "87f2ed80-433d-44f7-9d8e-c85eb6e2b67f",
   "metadata": {},
   "outputs": [],
   "source": [
    "def call_openai_api(messages):\n",
    "    return openai.ChatCompletion.create(\n",
    "        model='gpt-3.5-turbo-16k',\n",
    "        messages=messages,\n",
    "        max_tokens=4096,\n",
    "        temperature=1\n",
    "    )\n",
    "\n",
    "def summarize_text(transcript):\n",
    "    system_prompt = \"You are a news summarizer and know all global news. You're helping me write a concise summary of the given news text \"\n",
    "    user_prompt = f\"\"\"Please summarize the text provided below in 10 words, capturing the key points concisely and accurately.\n",
    "     Do not include any redundant phrases or unnecessary details.\n",
    "     Do not include words like \"The text contains...\", or \"The text includes...\"\n",
    "     Text: {text}\n",
    "    \"\"\"\n",
    "    \n",
    "    messages = [\n",
    "        {'role': 'system', 'content': system_prompt},\n",
    "        {'role': 'user', 'content': user_prompt}\n",
    "    ]\n",
    "    \n",
    "    response = call_openai_api(messages)\n",
    "    summary = response['choices'][0]['message']['content']\n",
    "    return summary"
   ]
  },
  {
   "cell_type": "code",
   "execution_count": null,
   "id": "b48510e4-027d-4570-aa20-a6bb71fb6222",
   "metadata": {
    "scrolled": true
   },
   "outputs": [],
   "source": [
    "# prevent rate limits imposed by the GPT models", 

    "import time\n",
    
    "df1=pd.DataFrame()\n",
     "for i in range(8): # for 8000 rows in dataset\n",
    "    init = i*100\n",
    "    final = (i+1)*100\n",
    "    csum = keys_dff.iloc[init:final]\n",
    "    print(i, init, final)\n",
    "    csum['summary_llm'] = csum['Text'].map(lambda x: summarize_text(x))\n",
    "    df1 = pd.concat([df1, csum])\n",
    "    time.sleep(60) "
   ]
  },
  {
   "cell_type": "code",
   "execution_count": null,
   "id": "52f988c9-8f02-468a-937d-457799a1c25e",
   "metadata": {},
   "outputs": [],
   "source": [
    "print(df1.shape)\n",
    "df1.shape"
   ]
  },
  {
   "cell_type": "code",
   "execution_count": null,
   "id": "5ffad4cb-34a6-4d68-8096-de45a5dcb2c4",
   "metadata": {},
   "outputs": [],
   "source": [
    "# Save embeddings and clusters with openAI summary for each cluster content \n",
    "df1.to_pickle(\"Final_clustered_data_summary.pkl\")\n",
    "df1.to_csv(\"Final_clustered_data_summary.csv\")\n",
    "df1.head()"
   ]
  },
  {
   "cell_type": "code",
   "execution_count": null,
   "id": "ff693d63-77e6-4cad-8de5-4a38daca60f3",
   "metadata": {},
   "outputs": [],
   "source": [
    "pd.set_option('display.max_colwidth', None)\n",
    "df1.head(10)"
   ]
  },
  {
   "cell_type": "code",
   "execution_count": null,
   "id": "86ce9b4a-22a2-4fca-8ac2-73e573bdfe51",
   "metadata": {},
   "outputs": [],
   "source": []
  }
 ],
 "metadata": {
  "kernelspec": {
   "display_name": "Python 3 (ipykernel)",
   "language": "python",
   "name": "python3"
  },
  "language_info": {
   "codemirror_mode": {
    "name": "ipython",
    "version": 3
   },
   "file_extension": ".py",
   "mimetype": "text/x-python",
   "name": "python",
   "nbconvert_exporter": "python",
   "pygments_lexer": "ipython3",
   "version": "3.11.7"
  }
 },
 "nbformat": 4,
 "nbformat_minor": 5
}
